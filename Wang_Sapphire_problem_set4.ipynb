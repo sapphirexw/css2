{
  "nbformat": 4,
  "nbformat_minor": 0,
  "metadata": {
    "colab": {
      "name": "Wang_Sapphire_problem_set4",
      "provenance": [],
      "collapsed_sections": []
    },
    "kernelspec": {
      "name": "python3",
      "display_name": "Python 3"
    },
    "language_info": {
      "name": "python"
    }
  },
  "cells": [
    {
      "cell_type": "markdown",
      "metadata": {
        "id": "s7Ek0NGX46n1"
      },
      "source": [
        "# Block 1"
      ]
    },
    {
      "cell_type": "code",
      "metadata": {
        "id": "b3lyiCHb4_zb"
      },
      "source": [
        "# importing the libraries\n",
        "from bs4 import BeautifulSoup\n",
        "import requests\n",
        "import pandas as pd"
      ],
      "execution_count": 1,
      "outputs": []
    },
    {
      "cell_type": "markdown",
      "metadata": {
        "id": "qzJun-mR5BSJ"
      },
      "source": [
        "# Block 2"
      ]
    },
    {
      "cell_type": "code",
      "metadata": {
        "id": "5PBbbnx55DF4"
      },
      "source": [
        "# i will have the function\n",
        "def weather(zipcode):\n",
        "  \"\"\"\n",
        "  a function that will scrape weather.com for the location and weather of a zipcode that is inputted\n",
        "  input: zipcode\n",
        "  output:\n",
        "  location, weather, and zipcode of the corresponding weather.com page\n",
        "  \"\"\"\n",
        "  # default try statement for valid zipcodes\n",
        "  try:\n",
        "      # zipcode is the input\n",
        "      url = 'https://weather.com/weather/today/l/' + str(zipcode) + ':4:US'\n",
        "      # get the data\n",
        "      response = requests.get(url)\n",
        "      soup = BeautifulSoup(response.content)\n",
        "      # print the city and state\n",
        "      x = soup.find_all(class_ = 'CurrentConditions--location--1Ayv3')[0].text\n",
        "      print('Location: ', x[:-8])\n",
        "      # print the weather in Fahrenheit\n",
        "      y = soup.find_all(class_ = 'CurrentConditions--tempValue--3KcTQ')[0].text\n",
        "      print('Temperature (F): ', y)\n",
        "      # print the zipcode\n",
        "      print('Zipcode: ', zipcode)\n",
        "  # how the code will handle invalid inputs\n",
        "  except:\n",
        "    print('Invalid input. Please input a zipcode.')"
      ],
      "execution_count": 19,
      "outputs": []
    },
    {
      "cell_type": "markdown",
      "metadata": {
        "id": "07KndlDR5Ftv"
      },
      "source": [
        "# Block 3"
      ]
    },
    {
      "cell_type": "code",
      "metadata": {
        "colab": {
          "base_uri": "https://localhost:8080/"
        },
        "id": "ry05DdyQd_B0",
        "outputId": "32a4ecd9-e447-4a3c-ea20-664d71c94b18"
      },
      "source": [
        "# i will give an example of my function by passing in a zipcode\n",
        "weather(92122)"
      ],
      "execution_count": 20,
      "outputs": [
        {
          "output_type": "stream",
          "text": [
            "Location:  San Diego, CA\n",
            "Temperature (F):  58°\n",
            "Zipcode:  92122\n"
          ],
          "name": "stdout"
        }
      ]
    },
    {
      "cell_type": "markdown",
      "metadata": {
        "id": "j_tJN3QFjTQA"
      },
      "source": [
        "# Bonus point"
      ]
    },
    {
      "cell_type": "code",
      "metadata": {
        "colab": {
          "base_uri": "https://localhost:8080/"
        },
        "id": "uc_Nys9cjUw_",
        "outputId": "b3e46e4a-2208-4820-eec5-d77c4ee82a44"
      },
      "source": [
        "# i will input all the zipcodes in the list\n",
        "print('Input: 92122')\n",
        "first = weather(92122)\n",
        "print('Input: str(92122)')\n",
        "second = weather(str(92122))\n",
        "print('Input: 9212')\n",
        "third = weather(9212)\n",
        "print('Input: 99999')\n",
        "fourth = weather(99999)\n",
        "print('Input: 92328')\n",
        "fifth = weather(92328)\n",
        "print(\"Input: 'Hello, is this weather.com?'\")\n",
        "sixth = weather('Hello, is this weather.com?')"
      ],
      "execution_count": 23,
      "outputs": [
        {
          "output_type": "stream",
          "text": [
            "Input: 92122\n",
            "Location:  San Diego, CA\n",
            "Temperature (F):  58°\n",
            "Zipcode:  92122\n",
            "Input: str(92122)\n",
            "Location:  San Diego, CA\n",
            "Temperature (F):  58°\n",
            "Zipcode:  92122\n",
            "Input: 9212\n",
            "Invalid input. Please input a zipcode.\n",
            "Input: 99999\n",
            "Invalid input. Please input a zipcode.\n",
            "Input: 92328\n",
            "Location:  Death Valley, CA\n",
            "Temperature (F):  90°\n",
            "Zipcode:  92328\n",
            "Input: 'Hello, is this weather.com?'\n",
            "Invalid input. Please input a zipcode.\n"
          ],
          "name": "stdout"
        }
      ]
    }
  ]
}