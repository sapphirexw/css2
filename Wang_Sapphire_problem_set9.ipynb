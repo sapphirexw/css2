{
  "nbformat": 4,
  "nbformat_minor": 0,
  "metadata": {
    "colab": {
      "name": "Wang_Sapphire_problem_set9",
      "provenance": [],
      "collapsed_sections": []
    },
    "kernelspec": {
      "name": "python3",
      "display_name": "Python 3"
    },
    "language_info": {
      "name": "python"
    }
  },
  "cells": [
    {
      "cell_type": "markdown",
      "metadata": {
        "id": "XAT2FrAIZItr"
      },
      "source": [
        "# Block 1"
      ]
    },
    {
      "cell_type": "code",
      "metadata": {
        "id": "6cvDevltZPS1"
      },
      "source": [
        "# i will import the necessary libraries\n",
        "import seaborn as sns\n",
        "import pandas as pd\n",
        "import numpy as np\n",
        "import matplotlib.pyplot as plt\n",
        "from sklearn.linear_model import LinearRegression\n",
        "\n",
        "# i will import the data\n",
        "data = sns.load_dataset('geyser')"
      ],
      "execution_count": 7,
      "outputs": []
    },
    {
      "cell_type": "markdown",
      "metadata": {
        "id": "n9dXnrdlZjaO"
      },
      "source": [
        "# Block 2"
      ]
    },
    {
      "cell_type": "code",
      "metadata": {
        "id": "RTRyIe0dZktm"
      },
      "source": [
        "# i will create my own k-fold cross validation code\n",
        "training_score = []\n",
        "testing_score = []\n",
        "\n",
        "value = len(data)*.10\n",
        "# put eveyrthing into the same for loop (below)\n",
        "# append r2 scores to a list and average them\n",
        "for i in range(10):\n",
        "  all_rows = np.arange(len(data)).tolist()\n",
        "  testing_index = np.arange(int(value*i), int(value*(i+1)))\n",
        "  testing_data = data.iloc[testing_index,:]\n",
        "  for j in testing_index:\n",
        "    all_rows.remove(j)\n",
        "  training_index =  all_rows\n",
        "  training_data = data.iloc[training_index,:]\n",
        "  \n",
        "  Xtest =  testing_data[['duration']]\n",
        "  ytest = testing_data['waiting']\n",
        "\n",
        "  Xtrain =  training_data[['duration']]\n",
        "  ytrain = training_data['waiting']\n",
        "\n",
        "  model = LinearRegression()\n",
        "  model.fit(Xtrain, ytrain)\n",
        "\n",
        "  testing_score.append(model.score(Xtest, ytest))\n",
        "  training_score.append(model.score(Xtrain, ytrain))"
      ],
      "execution_count": 8,
      "outputs": []
    },
    {
      "cell_type": "markdown",
      "metadata": {
        "id": "1NpnvoAlh4l2"
      },
      "source": [
        "# Block 3"
      ]
    },
    {
      "cell_type": "code",
      "metadata": {
        "colab": {
          "base_uri": "https://localhost:8080/"
        },
        "id": "k4zICyE3h58_",
        "outputId": "95277c8f-63de-4731-9f8e-1cb0c9b15c91"
      },
      "source": [
        "# i will print the average and standard deviation of the r^2 values for the different folds\n",
        "# testing scores\n",
        "print('The mean of the testing R^2 values is: ', np.mean(testing_score))\n",
        "print('The std of the testing R^2 values is: ', np.std(testing_score))\n",
        "# training scores\n",
        "print('The mean of the training R^2 values is: ', np.mean(training_score))\n",
        "print('The std of the training R^2 values is: ', np.std(training_score))"
      ],
      "execution_count": 9,
      "outputs": [
        {
          "output_type": "stream",
          "text": [
            "The mean of the testing R^2 values is:  0.7974898504962091\n",
            "The std of the testing R^2 values is:  0.06759008267092219\n",
            "The mean of the training R^2 values is:  0.8115522476177027\n",
            "The std of the training R^2 values is:  0.005330716057146054\n"
          ],
          "name": "stdout"
        }
      ]
    },
    {
      "cell_type": "markdown",
      "metadata": {
        "id": "ooKqoQHTjwqq"
      },
      "source": [
        "# Block 4"
      ]
    },
    {
      "cell_type": "markdown",
      "metadata": {
        "id": "xHvrPGyojxhT"
      },
      "source": [
        "Using my code, I have found that the mean of all my testing values is approximately .80 and the standard deviation is approximately .07. The mean of the training r squared value is approximately .81 and the standard deviation is approximately .01. This means that the r squared values for the training model is more reliable than the testing value, which is expected because we used the training data to train the model; however, the standard deviation for the testing data shows that the cross-validation model is still relatively reliable for the testing data. Therefore, I can conclude that my model can consistently use the duration of an eruption to predict the waiting time for the next eruption."
      ]
    }
  ]
}