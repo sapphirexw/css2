{
  "nbformat": 4,
  "nbformat_minor": 0,
  "metadata": {
    "colab": {
      "name": "Wang_Sapphire_problem_set3",
      "provenance": [],
      "toc_visible": true
    },
    "kernelspec": {
      "name": "python3",
      "display_name": "Python 3"
    },
    "language_info": {
      "name": "python"
    }
  },
  "cells": [
    {
      "cell_type": "markdown",
      "metadata": {
        "id": "orUGc9HeWUGk"
      },
      "source": [
        "# Block 1"
      ]
    },
    {
      "cell_type": "code",
      "metadata": {
        "id": "ohOeZSWLWhD7"
      },
      "source": [
        "# importing the libraries\n",
        "import pandas as pd\n",
        "import numpy as np"
      ],
      "execution_count": 1,
      "outputs": []
    },
    {
      "cell_type": "markdown",
      "metadata": {
        "id": "mRh4exR0WrWd"
      },
      "source": [
        "# Block 2"
      ]
    },
    {
      "cell_type": "code",
      "metadata": {
        "id": "O71XVd28Ws68",
        "colab": {
          "base_uri": "https://localhost:8080/",
          "height": 1000
        },
        "outputId": "cd82d4a3-3883-43d6-e0e2-a36a3aa40756"
      },
      "source": [
        "# web scraping the data\n",
        "url = 'https://en.wikipedia.org/wiki/MonsterVerse'\n",
        "webdata = pd.read_html(url)\n",
        "\n",
        "# getting the  'character' rows and 'films' columns\n",
        "df = webdata[3]\n",
        "\n",
        "# making the index the different characters instead of 0, 1, 2, 3...\n",
        "df = df.set_index(df.columns[0])\n",
        "\n",
        "# changing the column names to just be the names of the movies\n",
        "  #  creating a new string to assign the columns to \n",
        "renamed = []\n",
        "names = df[df.columns]\n",
        "for i in names:\n",
        "  renamed.append(i[1])\n",
        "  # reassigning the column names to the new string\n",
        "df.columns = renamed\n",
        "\n",
        "# changing the index name to just be 'character'\n",
        "df.index.names = ['character']\n",
        "# removing the row that has all duplicates\n",
        "  # comparing each column to find duplicates (will return boolean data)\n",
        "compare1 = df[df.columns[0]] == df[df.columns[1]]\n",
        "compare2 = df[df.columns[0]] == df[df.columns[2]]\n",
        "compare3 = df[df.columns[0]] == df[df.columns[3]]\n",
        "  # dropping duplicates\n",
        "comparisons = compare1*compare2*compare3\n",
        "df = df.drop(index = df.index[comparisons])\n",
        "df"
      ],
      "execution_count": 2,
      "outputs": [
        {
          "output_type": "stream",
          "text": [
            "/usr/local/lib/python3.7/dist-packages/pandas/core/computation/expressions.py:204: UserWarning: evaluating in Python space because the '*' operator is not supported by numexpr for the bool dtype, use '&' instead\n",
            "  f\"evaluating in Python space because the {repr(op_str)} \"\n"
          ],
          "name": "stderr"
        },
        {
          "output_type": "execute_result",
          "data": {
            "text/html": [
              "<div>\n",
              "<style scoped>\n",
              "    .dataframe tbody tr th:only-of-type {\n",
              "        vertical-align: middle;\n",
              "    }\n",
              "\n",
              "    .dataframe tbody tr th {\n",
              "        vertical-align: top;\n",
              "    }\n",
              "\n",
              "    .dataframe thead th {\n",
              "        text-align: right;\n",
              "    }\n",
              "</style>\n",
              "<table border=\"1\" class=\"dataframe\">\n",
              "  <thead>\n",
              "    <tr style=\"text-align: right;\">\n",
              "      <th></th>\n",
              "      <th>Godzilla</th>\n",
              "      <th>Kong:Skull Island</th>\n",
              "      <th>Godzilla:King of the Monsters</th>\n",
              "      <th>Godzilla vs. Kong</th>\n",
              "    </tr>\n",
              "    <tr>\n",
              "      <th>character</th>\n",
              "      <th></th>\n",
              "      <th></th>\n",
              "      <th></th>\n",
              "      <th></th>\n",
              "    </tr>\n",
              "  </thead>\n",
              "  <tbody>\n",
              "    <tr>\n",
              "      <th>Godzilla</th>\n",
              "      <td>T.J. StormS</td>\n",
              "      <td>Pictured with archive audio</td>\n",
              "      <td>T.J. StormS</td>\n",
              "      <td>CGI</td>\n",
              "    </tr>\n",
              "    <tr>\n",
              "      <th>MUTO</th>\n",
              "      <td>Matt CrossSLee RossS</td>\n",
              "      <td>NaN</td>\n",
              "      <td>CGI</td>\n",
              "      <td>Archive footage</td>\n",
              "    </tr>\n",
              "    <tr>\n",
              "      <th>King Kong</th>\n",
              "      <td>NaN</td>\n",
              "      <td>Terry NotarySToby KebbellS</td>\n",
              "      <td>Archive footage</td>\n",
              "      <td>Eric PeteyS[57]</td>\n",
              "    </tr>\n",
              "    <tr>\n",
              "      <th>King Ghidorah</th>\n",
              "      <td>NaN</td>\n",
              "      <td>Pictured</td>\n",
              "      <td>Jason LilesSAlan MaxsonSRichard DortonS</td>\n",
              "      <td>Archive footage</td>\n",
              "    </tr>\n",
              "    <tr>\n",
              "      <th>Rodan</th>\n",
              "      <td>NaN</td>\n",
              "      <td>Pictured</td>\n",
              "      <td>Jason LilesS</td>\n",
              "      <td>Archive footage</td>\n",
              "    </tr>\n",
              "    <tr>\n",
              "      <th>Ishiro Serizawa</th>\n",
              "      <td>Ken Watanabe</td>\n",
              "      <td>NaN</td>\n",
              "      <td>Ken Watanabe</td>\n",
              "      <td>NaN</td>\n",
              "    </tr>\n",
              "    <tr>\n",
              "      <th>Vivienne Graham</th>\n",
              "      <td>Sally Hawkins</td>\n",
              "      <td>NaN</td>\n",
              "      <td>Sally Hawkins</td>\n",
              "      <td>NaN</td>\n",
              "    </tr>\n",
              "    <tr>\n",
              "      <th>William Stentz</th>\n",
              "      <td>David Strathairn</td>\n",
              "      <td>NaN</td>\n",
              "      <td>David Strathairn</td>\n",
              "      <td>NaN</td>\n",
              "    </tr>\n",
              "    <tr>\n",
              "      <th>Ford Brody</th>\n",
              "      <td>Aaron Taylor-JohnsonCJ AdamsY</td>\n",
              "      <td>NaN</td>\n",
              "      <td>NaN</td>\n",
              "      <td>NaN</td>\n",
              "    </tr>\n",
              "    <tr>\n",
              "      <th>Elle Brody</th>\n",
              "      <td>Elizabeth Olsen</td>\n",
              "      <td>NaN</td>\n",
              "      <td>NaN</td>\n",
              "      <td>NaN</td>\n",
              "    </tr>\n",
              "    <tr>\n",
              "      <th>Joe Brody</th>\n",
              "      <td>Bryan Cranston</td>\n",
              "      <td>NaN</td>\n",
              "      <td>NaN</td>\n",
              "      <td>NaN</td>\n",
              "    </tr>\n",
              "    <tr>\n",
              "      <th>Sandra Brody</th>\n",
              "      <td>Juliette Binoche</td>\n",
              "      <td>NaN</td>\n",
              "      <td>NaN</td>\n",
              "      <td>NaN</td>\n",
              "    </tr>\n",
              "    <tr>\n",
              "      <th>Houston Brooks</th>\n",
              "      <td>NaN</td>\n",
              "      <td>Corey Hawkins</td>\n",
              "      <td>Joe Morton</td>\n",
              "      <td>NaN</td>\n",
              "    </tr>\n",
              "    <tr>\n",
              "      <th>William Randa</th>\n",
              "      <td>NaN</td>\n",
              "      <td>John Goodman</td>\n",
              "      <td>NaN</td>\n",
              "      <td>Pictured with archive audio</td>\n",
              "    </tr>\n",
              "    <tr>\n",
              "      <th>James Conrad</th>\n",
              "      <td>NaN</td>\n",
              "      <td>Tom Hiddleston</td>\n",
              "      <td>NaN</td>\n",
              "      <td>NaN</td>\n",
              "    </tr>\n",
              "    <tr>\n",
              "      <th>Hank Marlow</th>\n",
              "      <td>NaN</td>\n",
              "      <td>John C. ReillyWill BrittainY</td>\n",
              "      <td>NaN</td>\n",
              "      <td>NaN</td>\n",
              "    </tr>\n",
              "    <tr>\n",
              "      <th>Mason Weaver</th>\n",
              "      <td>NaN</td>\n",
              "      <td>Brie Larson</td>\n",
              "      <td>NaN</td>\n",
              "      <td>NaN</td>\n",
              "    </tr>\n",
              "    <tr>\n",
              "      <th>Preston Packard</th>\n",
              "      <td>NaN</td>\n",
              "      <td>Samuel L. Jackson</td>\n",
              "      <td>NaN</td>\n",
              "      <td>NaN</td>\n",
              "    </tr>\n",
              "    <tr>\n",
              "      <th>San Lin</th>\n",
              "      <td>NaN</td>\n",
              "      <td>Jing Tian</td>\n",
              "      <td>NaN</td>\n",
              "      <td>NaN</td>\n",
              "    </tr>\n",
              "    <tr>\n",
              "      <th>Mark Russell</th>\n",
              "      <td>NaN</td>\n",
              "      <td>NaN</td>\n",
              "      <td>Kyle Chandler</td>\n",
              "      <td>Kyle Chandler</td>\n",
              "    </tr>\n",
              "    <tr>\n",
              "      <th>Madison Russell</th>\n",
              "      <td>NaN</td>\n",
              "      <td>NaN</td>\n",
              "      <td>Millie Bobby BrownAlexandra RabeY</td>\n",
              "      <td>Millie Bobby Brown</td>\n",
              "    </tr>\n",
              "    <tr>\n",
              "      <th>Emma Russell</th>\n",
              "      <td>NaN</td>\n",
              "      <td>NaN</td>\n",
              "      <td>Vera Farmiga</td>\n",
              "      <td>Pictured</td>\n",
              "    </tr>\n",
              "    <tr>\n",
              "      <th>Ilene and Ling Chen</th>\n",
              "      <td>NaN</td>\n",
              "      <td>NaN</td>\n",
              "      <td>Zhang Ziyi</td>\n",
              "      <td>NaN</td>\n",
              "    </tr>\n",
              "    <tr>\n",
              "      <th>Rick Stanton</th>\n",
              "      <td>NaN</td>\n",
              "      <td>NaN</td>\n",
              "      <td>Bradley Whitford</td>\n",
              "      <td>NaN</td>\n",
              "    </tr>\n",
              "    <tr>\n",
              "      <th>Sam Coleman</th>\n",
              "      <td>NaN</td>\n",
              "      <td>NaN</td>\n",
              "      <td>Thomas Middleditch[a]</td>\n",
              "      <td>NaN</td>\n",
              "    </tr>\n",
              "    <tr>\n",
              "      <th>Alan Jonah</th>\n",
              "      <td>NaN</td>\n",
              "      <td>NaN</td>\n",
              "      <td>Charles Dance</td>\n",
              "      <td>NaN</td>\n",
              "    </tr>\n",
              "    <tr>\n",
              "      <th>Diane Foster</th>\n",
              "      <td>NaN</td>\n",
              "      <td>NaN</td>\n",
              "      <td>Aisha Hinds</td>\n",
              "      <td>NaN</td>\n",
              "    </tr>\n",
              "    <tr>\n",
              "      <th>Jackson Barnes</th>\n",
              "      <td>NaN</td>\n",
              "      <td>NaN</td>\n",
              "      <td>O'Shea Jackson Jr.</td>\n",
              "      <td>NaN</td>\n",
              "    </tr>\n",
              "    <tr>\n",
              "      <th>Nathan Lind</th>\n",
              "      <td>NaN</td>\n",
              "      <td>NaN</td>\n",
              "      <td>NaN</td>\n",
              "      <td>Alexander Skarsgård</td>\n",
              "    </tr>\n",
              "    <tr>\n",
              "      <th>Ilene Andrews</th>\n",
              "      <td>NaN</td>\n",
              "      <td>NaN</td>\n",
              "      <td>NaN</td>\n",
              "      <td>Rebecca Hall</td>\n",
              "    </tr>\n",
              "    <tr>\n",
              "      <th>Jia</th>\n",
              "      <td>NaN</td>\n",
              "      <td>NaN</td>\n",
              "      <td>NaN</td>\n",
              "      <td>Kaylee Hottle</td>\n",
              "    </tr>\n",
              "    <tr>\n",
              "      <th>Bernie Hayes</th>\n",
              "      <td>NaN</td>\n",
              "      <td>NaN</td>\n",
              "      <td>NaN</td>\n",
              "      <td>Brian Tyree Henry</td>\n",
              "    </tr>\n",
              "    <tr>\n",
              "      <th>Josh Valentine</th>\n",
              "      <td>NaN</td>\n",
              "      <td>NaN</td>\n",
              "      <td>NaN</td>\n",
              "      <td>Julian Dennison</td>\n",
              "    </tr>\n",
              "    <tr>\n",
              "      <th>Walter Simmons</th>\n",
              "      <td>NaN</td>\n",
              "      <td>NaN</td>\n",
              "      <td>NaN</td>\n",
              "      <td>Demián Bichir</td>\n",
              "    </tr>\n",
              "    <tr>\n",
              "      <th>Ren Serizawa</th>\n",
              "      <td>NaN</td>\n",
              "      <td>NaN</td>\n",
              "      <td>NaN</td>\n",
              "      <td>Shun Oguri</td>\n",
              "    </tr>\n",
              "    <tr>\n",
              "      <th>Maia Simmons</th>\n",
              "      <td>NaN</td>\n",
              "      <td>NaN</td>\n",
              "      <td>NaN</td>\n",
              "      <td>Eiza González</td>\n",
              "    </tr>\n",
              "    <tr>\n",
              "      <th>Guillermin</th>\n",
              "      <td>NaN</td>\n",
              "      <td>NaN</td>\n",
              "      <td>NaN</td>\n",
              "      <td>Lance Reddick</td>\n",
              "    </tr>\n",
              "  </tbody>\n",
              "</table>\n",
              "</div>"
            ],
            "text/plain": [
              "                                          Godzilla  ...            Godzilla vs. Kong\n",
              "character                                           ...                             \n",
              "Godzilla                               T.J. StormS  ...                          CGI\n",
              "MUTO                          Matt CrossSLee RossS  ...              Archive footage\n",
              "King Kong                                      NaN  ...              Eric PeteyS[57]\n",
              "King Ghidorah                                  NaN  ...              Archive footage\n",
              "Rodan                                          NaN  ...              Archive footage\n",
              "Ishiro Serizawa                       Ken Watanabe  ...                          NaN\n",
              "Vivienne Graham                      Sally Hawkins  ...                          NaN\n",
              "William Stentz                    David Strathairn  ...                          NaN\n",
              "Ford Brody           Aaron Taylor-JohnsonCJ AdamsY  ...                          NaN\n",
              "Elle Brody                         Elizabeth Olsen  ...                          NaN\n",
              "Joe Brody                           Bryan Cranston  ...                          NaN\n",
              "Sandra Brody                      Juliette Binoche  ...                          NaN\n",
              "Houston Brooks                                 NaN  ...                          NaN\n",
              "William Randa                                  NaN  ...  Pictured with archive audio\n",
              "James Conrad                                   NaN  ...                          NaN\n",
              "Hank Marlow                                    NaN  ...                          NaN\n",
              "Mason Weaver                                   NaN  ...                          NaN\n",
              "Preston Packard                                NaN  ...                          NaN\n",
              "San Lin                                        NaN  ...                          NaN\n",
              "Mark Russell                                   NaN  ...                Kyle Chandler\n",
              "Madison Russell                                NaN  ...           Millie Bobby Brown\n",
              "Emma Russell                                   NaN  ...                     Pictured\n",
              "Ilene and Ling Chen                            NaN  ...                          NaN\n",
              "Rick Stanton                                   NaN  ...                          NaN\n",
              "Sam Coleman                                    NaN  ...                          NaN\n",
              "Alan Jonah                                     NaN  ...                          NaN\n",
              "Diane Foster                                   NaN  ...                          NaN\n",
              "Jackson Barnes                                 NaN  ...                          NaN\n",
              "Nathan Lind                                    NaN  ...          Alexander Skarsgård\n",
              "Ilene Andrews                                  NaN  ...                 Rebecca Hall\n",
              "Jia                                            NaN  ...                Kaylee Hottle\n",
              "Bernie Hayes                                   NaN  ...            Brian Tyree Henry\n",
              "Josh Valentine                                 NaN  ...              Julian Dennison\n",
              "Walter Simmons                                 NaN  ...                Demián Bichir\n",
              "Ren Serizawa                                   NaN  ...                   Shun Oguri\n",
              "Maia Simmons                                   NaN  ...                Eiza González\n",
              "Guillermin                                     NaN  ...                Lance Reddick\n",
              "\n",
              "[37 rows x 4 columns]"
            ]
          },
          "metadata": {
            "tags": []
          },
          "execution_count": 2
        }
      ]
    },
    {
      "cell_type": "markdown",
      "metadata": {
        "id": "836cWfRAUVB4"
      },
      "source": [
        "# Block 4"
      ]
    },
    {
      "cell_type": "code",
      "metadata": {
        "id": "e-oFFkp9UXrc"
      },
      "source": [
        "# i will save the file as a .csv with the delimiter being tabs\n",
        "df.to_csv('df.csv', sep = '\\t')"
      ],
      "execution_count": 3,
      "outputs": []
    },
    {
      "cell_type": "markdown",
      "metadata": {
        "id": "aIYnouLbTupZ"
      },
      "source": [
        "# Extra Credit"
      ]
    },
    {
      "cell_type": "markdown",
      "metadata": {
        "id": "0sgduB54n9ap"
      },
      "source": [
        "# Block 1"
      ]
    },
    {
      "cell_type": "code",
      "metadata": {
        "id": "AlDeIof3n-xy"
      },
      "source": [
        "# importing the libraries\n",
        "import pandas as pd\n",
        "import numpy as np"
      ],
      "execution_count": 12,
      "outputs": []
    },
    {
      "cell_type": "markdown",
      "metadata": {
        "id": "CiOisrcUoI63"
      },
      "source": [
        "# Block 2"
      ]
    },
    {
      "cell_type": "code",
      "metadata": {
        "id": "IJ8XERE2oJ_D"
      },
      "source": [
        "# web scraping data\n",
        "url1 = 'https://en.wikipedia.org/wiki/MonsterVerse'\n",
        "webdata = pd.read_html(url1)\n",
        "df1 = webdata[3]"
      ],
      "execution_count": 13,
      "outputs": []
    },
    {
      "cell_type": "markdown",
      "metadata": {
        "id": "S9Bp9O3joOky"
      },
      "source": [
        "# Block 3"
      ]
    },
    {
      "cell_type": "code",
      "metadata": {
        "id": "zx-SXBhXUA6I"
      },
      "source": [
        "# my function\n",
        "def clean(df):\n",
        "  \"\"\"\n",
        "  a function that will clean up the dataframe\n",
        "  input: dataframe\n",
        "  output:\n",
        "    1. makes the index the different characters\n",
        "    2. changes the index name to just be 'character'\n",
        "    3. removes duplicates\n",
        "  \"\"\"\n",
        "  df = df.set_index(df.columns[0])\n",
        "  renamed = []\n",
        "  names = df[df.columns]\n",
        "  for i in names:\n",
        "    renamed.append(i[1])\n",
        "  df.columns = renamed\n",
        "  df.index.names = ['character']\n",
        "  compare1 = df[df.columns[0]] == df[df.columns[1]]\n",
        "  compare2 = df[df.columns[0]] == df[df.columns[2]]\n",
        "  compare3 = df[df.columns[0]] == df[df.columns[3]]\n",
        "  comparisons = compare1*compare2*compare3\n",
        "  df = df.drop(index = df.index[comparisons])\n",
        "  print(df)"
      ],
      "execution_count": 14,
      "outputs": []
    },
    {
      "cell_type": "markdown",
      "metadata": {
        "id": "VcmOdclboWl8"
      },
      "source": [
        "# Block 4"
      ]
    },
    {
      "cell_type": "code",
      "metadata": {
        "id": "s9i8ILOblB0i",
        "colab": {
          "base_uri": "https://localhost:8080/"
        },
        "outputId": "13a932eb-d888-4e94-fc9c-3844213ddb25"
      },
      "source": [
        "# running the function\n",
        "clean(df1)"
      ],
      "execution_count": 15,
      "outputs": [
        {
          "output_type": "stream",
          "text": [
            "                                          Godzilla  ...            Godzilla vs. Kong\n",
            "character                                           ...                             \n",
            "Godzilla                               T.J. StormS  ...                          CGI\n",
            "MUTO                          Matt CrossSLee RossS  ...              Archive footage\n",
            "King Kong                                      NaN  ...              Eric PeteyS[57]\n",
            "King Ghidorah                                  NaN  ...              Archive footage\n",
            "Rodan                                          NaN  ...              Archive footage\n",
            "Ishiro Serizawa                       Ken Watanabe  ...                          NaN\n",
            "Vivienne Graham                      Sally Hawkins  ...                          NaN\n",
            "William Stentz                    David Strathairn  ...                          NaN\n",
            "Ford Brody           Aaron Taylor-JohnsonCJ AdamsY  ...                          NaN\n",
            "Elle Brody                         Elizabeth Olsen  ...                          NaN\n",
            "Joe Brody                           Bryan Cranston  ...                          NaN\n",
            "Sandra Brody                      Juliette Binoche  ...                          NaN\n",
            "Houston Brooks                                 NaN  ...                          NaN\n",
            "William Randa                                  NaN  ...  Pictured with archive audio\n",
            "James Conrad                                   NaN  ...                          NaN\n",
            "Hank Marlow                                    NaN  ...                          NaN\n",
            "Mason Weaver                                   NaN  ...                          NaN\n",
            "Preston Packard                                NaN  ...                          NaN\n",
            "San Lin                                        NaN  ...                          NaN\n",
            "Mark Russell                                   NaN  ...                Kyle Chandler\n",
            "Madison Russell                                NaN  ...           Millie Bobby Brown\n",
            "Emma Russell                                   NaN  ...                     Pictured\n",
            "Ilene and Ling Chen                            NaN  ...                          NaN\n",
            "Rick Stanton                                   NaN  ...                          NaN\n",
            "Sam Coleman                                    NaN  ...                          NaN\n",
            "Alan Jonah                                     NaN  ...                          NaN\n",
            "Diane Foster                                   NaN  ...                          NaN\n",
            "Jackson Barnes                                 NaN  ...                          NaN\n",
            "Nathan Lind                                    NaN  ...          Alexander Skarsgård\n",
            "Ilene Andrews                                  NaN  ...                 Rebecca Hall\n",
            "Jia                                            NaN  ...                Kaylee Hottle\n",
            "Bernie Hayes                                   NaN  ...            Brian Tyree Henry\n",
            "Josh Valentine                                 NaN  ...              Julian Dennison\n",
            "Walter Simmons                                 NaN  ...                Demián Bichir\n",
            "Ren Serizawa                                   NaN  ...                   Shun Oguri\n",
            "Maia Simmons                                   NaN  ...                Eiza González\n",
            "Guillermin                                     NaN  ...                Lance Reddick\n",
            "\n",
            "[37 rows x 4 columns]\n"
          ],
          "name": "stdout"
        },
        {
          "output_type": "stream",
          "text": [
            "/usr/local/lib/python3.7/dist-packages/pandas/core/computation/expressions.py:204: UserWarning: evaluating in Python space because the '*' operator is not supported by numexpr for the bool dtype, use '&' instead\n",
            "  f\"evaluating in Python space because the {repr(op_str)} \"\n"
          ],
          "name": "stderr"
        }
      ]
    },
    {
      "cell_type": "markdown",
      "metadata": {
        "id": "jgW8YnLCoh4V"
      },
      "source": [
        "# Block 5"
      ]
    },
    {
      "cell_type": "code",
      "metadata": {
        "id": "6v2uD8d0ok-t"
      },
      "source": [
        "# i will save the file as a .csv with the delimiter being tabs\n",
        "df1.to_csv('df1.csv', sep = '\\t')"
      ],
      "execution_count": 16,
      "outputs": []
    },
    {
      "cell_type": "markdown",
      "metadata": {
        "id": "dq6HtYMMonV1"
      },
      "source": [
        "# Block 6"
      ]
    },
    {
      "cell_type": "code",
      "metadata": {
        "colab": {
          "base_uri": "https://localhost:8080/"
        },
        "id": "uv8j7FvEoonC",
        "outputId": "5518afeb-6648-41a6-e93f-cca989071f44"
      },
      "source": [
        "# repeating 4-5 with the Fast and Furious link\n",
        "  # i will first scrape the data\n",
        "url2 = 'https://en.wikipedia.org/wiki/List_of_Fast_%26_Furious_characters'\n",
        "webdata = pd.read_html(url2)\n",
        "df2 = webdata[2]\n",
        "  # now, i will run the function\n",
        "clean(df2)\n",
        "  # now, i will save thef ile as a .csv\n",
        "df2.to_csv('df2.csv', sep = ',')"
      ],
      "execution_count": 17,
      "outputs": [
        {
          "output_type": "stream",
          "text": [
            "                       Portrayed by  ...           F9\n",
            "character                            ...             \n",
            "Dominic Toretto          Vin Diesel  ...         Main\n",
            "Brian O'Conner        Paul Walker †  ...  Archive [1]\n",
            "Letty Ortiz      Michelle Rodriguez  ...         Main\n",
            "Mia Toretto        Jordana Brewster  ...         Main\n",
            "Roman Pearce          Tyrese Gibson  ...         Main\n",
            "...                             ...  ...          ...\n",
            "Denlinger         Samuel M. Stewart  ...          NaN\n",
            "Mose Jakande         Djimon Hounsou  ...          NaN\n",
            "Kiet                       Tony Jaa  ...          NaN\n",
            "Kara                   Ronda Rousey  ...          NaN\n",
            "Connor Rhodes       Kristofer Hivju  ...          NaN\n",
            "\n",
            "[100 rows x 13 columns]\n"
          ],
          "name": "stdout"
        },
        {
          "output_type": "stream",
          "text": [
            "/usr/local/lib/python3.7/dist-packages/pandas/core/computation/expressions.py:204: UserWarning: evaluating in Python space because the '*' operator is not supported by numexpr for the bool dtype, use '&' instead\n",
            "  f\"evaluating in Python space because the {repr(op_str)} \"\n"
          ],
          "name": "stderr"
        }
      ]
    }
  ]
}