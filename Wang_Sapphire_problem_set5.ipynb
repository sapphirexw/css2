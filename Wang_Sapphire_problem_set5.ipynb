{
  "nbformat": 4,
  "nbformat_minor": 0,
  "metadata": {
    "colab": {
      "name": "Wang_Sapphire_problem_set5",
      "provenance": []
    },
    "kernelspec": {
      "name": "python3",
      "display_name": "Python 3"
    },
    "language_info": {
      "name": "python"
    }
  },
  "cells": [
    {
      "cell_type": "markdown",
      "metadata": {
        "id": "IVjqWEDNCM8k"
      },
      "source": [
        "# Block 1"
      ]
    },
    {
      "cell_type": "code",
      "metadata": {
        "id": "gHIUCfOrYWqe"
      },
      "source": [
        "# loading the relevant libraries\n",
        "import numpy as np\n",
        "import pandas as pd\n",
        "import matplotlib.pyplot as plt\n",
        "import seaborn as sns"
      ],
      "execution_count": 1,
      "outputs": []
    },
    {
      "cell_type": "markdown",
      "metadata": {
        "id": "wZI_rnkoZGnL"
      },
      "source": [
        "# Block 2"
      ]
    },
    {
      "cell_type": "code",
      "metadata": {
        "colab": {
          "base_uri": "https://localhost:8080/"
        },
        "id": "gWtRWyAzYfcs",
        "outputId": "a7eaa56f-3fcc-488f-aca4-cb92d7df9523"
      },
      "source": [
        "# loading the data and making sure there are no extra index columns\n",
        "filename = 'messed_up_iris.xlsx'\n",
        "data = pd.read_excel(filename, index_col = 0)\n",
        "# shape of the data\n",
        "print(data.shape)\n",
        "# head of the data\n",
        "print(data.head())"
      ],
      "execution_count": 2,
      "outputs": [
        {
          "output_type": "stream",
          "text": [
            "(150, 7)\n",
            "   sepal_length  sepal_width  petal_length  petal_width species   color  origin\n",
            "0           5.1          3.5           1.4          0.2  setosa   green     usa\n",
            "1           4.9          3.0           1.4          0.2  setosa  yellow     usa\n",
            "2           4.7          3.2           1.3          0.2  setosa   green     usa\n",
            "3           4.6          3.1           1.5          0.2  setosa  orange   japan\n",
            "4           5.0          3.6           1.4          0.2  setosa    blue  europe\n"
          ],
          "name": "stdout"
        }
      ]
    },
    {
      "cell_type": "markdown",
      "metadata": {
        "id": "ysn_LNaaZdfw"
      },
      "source": [
        "# Block 3"
      ]
    },
    {
      "cell_type": "code",
      "metadata": {
        "colab": {
          "base_uri": "https://localhost:8080/"
        },
        "id": "kQSVRMM2ZeOc",
        "outputId": "ce72436a-10a7-4c2f-ccfc-a2398df3f93d"
      },
      "source": [
        "# removing columns and rows where there are more than 50% of the data missing\n",
        "data_nonans = data.copy()\n",
        "data_nonans = data_nonans.dropna(axis = 1, thresh = 150 * 0.5)\n",
        "data_nonans = data_nonans.dropna(axis = 0, thresh = 7 * 0.5)\n",
        "# showing the shape of the data after i removed those columns/rows\n",
        "print(data_nonans.shape)"
      ],
      "execution_count": 3,
      "outputs": [
        {
          "output_type": "stream",
          "text": [
            "(145, 6)\n"
          ],
          "name": "stdout"
        }
      ]
    },
    {
      "cell_type": "markdown",
      "metadata": {
        "id": "d_27hDo5lrVX"
      },
      "source": [
        "# Block 4"
      ]
    },
    {
      "cell_type": "code",
      "metadata": {
        "id": "jTivYTq-lsvD",
        "colab": {
          "base_uri": "https://localhost:8080/"
        },
        "outputId": "b7b05644-1e1f-420a-fe0d-581110780b4d"
      },
      "source": [
        "# removing duplicate data, if there is any\n",
        "# data_nonans.duplicated().any()\n",
        "data_nodupes = data_nonans.drop_duplicates(keep = False)\n",
        "# showing the shape of the data after i removed duplicates\n",
        "data_nodupes.shape"
      ],
      "execution_count": 4,
      "outputs": [
        {
          "output_type": "execute_result",
          "data": {
            "text/plain": [
              "(137, 6)"
            ]
          },
          "metadata": {
            "tags": []
          },
          "execution_count": 4
        }
      ]
    },
    {
      "cell_type": "markdown",
      "metadata": {
        "id": "OLWK-kJmIPoS"
      },
      "source": [
        "# Block 5 + 6"
      ]
    },
    {
      "cell_type": "code",
      "metadata": {
        "colab": {
          "base_uri": "https://localhost:8080/",
          "height": 212
        },
        "id": "3w4eKmGDIRBU",
        "outputId": "30d42ff7-6493-4ffc-fadd-ddf61d32fc73"
      },
      "source": [
        "# i will dummy code the categorical data using get_dummies, which removes the redundant columns from my dataframe\n",
        "data_dummy = pd.get_dummies(data_nodupes, columns = ['species', 'origin'] )\n",
        "# i will show the head of the data\n",
        "data_dummy.head()"
      ],
      "execution_count": 5,
      "outputs": [
        {
          "output_type": "execute_result",
          "data": {
            "text/html": [
              "<div>\n",
              "<style scoped>\n",
              "    .dataframe tbody tr th:only-of-type {\n",
              "        vertical-align: middle;\n",
              "    }\n",
              "\n",
              "    .dataframe tbody tr th {\n",
              "        vertical-align: top;\n",
              "    }\n",
              "\n",
              "    .dataframe thead th {\n",
              "        text-align: right;\n",
              "    }\n",
              "</style>\n",
              "<table border=\"1\" class=\"dataframe\">\n",
              "  <thead>\n",
              "    <tr style=\"text-align: right;\">\n",
              "      <th></th>\n",
              "      <th>sepal_length</th>\n",
              "      <th>sepal_width</th>\n",
              "      <th>petal_length</th>\n",
              "      <th>petal_width</th>\n",
              "      <th>species_seotsa</th>\n",
              "      <th>species_setosa</th>\n",
              "      <th>species_versicolor</th>\n",
              "      <th>species_versicolr</th>\n",
              "      <th>species_virginia</th>\n",
              "      <th>species_virginica</th>\n",
              "      <th>species_west virginia</th>\n",
              "      <th>origin_euarope</th>\n",
              "      <th>origin_europe</th>\n",
              "      <th>origin_japan</th>\n",
              "      <th>origin_uas</th>\n",
              "      <th>origin_usa</th>\n",
              "    </tr>\n",
              "  </thead>\n",
              "  <tbody>\n",
              "    <tr>\n",
              "      <th>0</th>\n",
              "      <td>5.1</td>\n",
              "      <td>3.5</td>\n",
              "      <td>1.4</td>\n",
              "      <td>0.2</td>\n",
              "      <td>0</td>\n",
              "      <td>1</td>\n",
              "      <td>0</td>\n",
              "      <td>0</td>\n",
              "      <td>0</td>\n",
              "      <td>0</td>\n",
              "      <td>0</td>\n",
              "      <td>0</td>\n",
              "      <td>0</td>\n",
              "      <td>0</td>\n",
              "      <td>0</td>\n",
              "      <td>1</td>\n",
              "    </tr>\n",
              "    <tr>\n",
              "      <th>1</th>\n",
              "      <td>4.9</td>\n",
              "      <td>3.0</td>\n",
              "      <td>1.4</td>\n",
              "      <td>0.2</td>\n",
              "      <td>0</td>\n",
              "      <td>1</td>\n",
              "      <td>0</td>\n",
              "      <td>0</td>\n",
              "      <td>0</td>\n",
              "      <td>0</td>\n",
              "      <td>0</td>\n",
              "      <td>0</td>\n",
              "      <td>0</td>\n",
              "      <td>0</td>\n",
              "      <td>0</td>\n",
              "      <td>1</td>\n",
              "    </tr>\n",
              "    <tr>\n",
              "      <th>2</th>\n",
              "      <td>4.7</td>\n",
              "      <td>3.2</td>\n",
              "      <td>1.3</td>\n",
              "      <td>0.2</td>\n",
              "      <td>0</td>\n",
              "      <td>1</td>\n",
              "      <td>0</td>\n",
              "      <td>0</td>\n",
              "      <td>0</td>\n",
              "      <td>0</td>\n",
              "      <td>0</td>\n",
              "      <td>0</td>\n",
              "      <td>0</td>\n",
              "      <td>0</td>\n",
              "      <td>0</td>\n",
              "      <td>1</td>\n",
              "    </tr>\n",
              "    <tr>\n",
              "      <th>3</th>\n",
              "      <td>4.6</td>\n",
              "      <td>3.1</td>\n",
              "      <td>1.5</td>\n",
              "      <td>0.2</td>\n",
              "      <td>0</td>\n",
              "      <td>1</td>\n",
              "      <td>0</td>\n",
              "      <td>0</td>\n",
              "      <td>0</td>\n",
              "      <td>0</td>\n",
              "      <td>0</td>\n",
              "      <td>0</td>\n",
              "      <td>0</td>\n",
              "      <td>1</td>\n",
              "      <td>0</td>\n",
              "      <td>0</td>\n",
              "    </tr>\n",
              "    <tr>\n",
              "      <th>4</th>\n",
              "      <td>5.0</td>\n",
              "      <td>3.6</td>\n",
              "      <td>1.4</td>\n",
              "      <td>0.2</td>\n",
              "      <td>0</td>\n",
              "      <td>1</td>\n",
              "      <td>0</td>\n",
              "      <td>0</td>\n",
              "      <td>0</td>\n",
              "      <td>0</td>\n",
              "      <td>0</td>\n",
              "      <td>0</td>\n",
              "      <td>1</td>\n",
              "      <td>0</td>\n",
              "      <td>0</td>\n",
              "      <td>0</td>\n",
              "    </tr>\n",
              "  </tbody>\n",
              "</table>\n",
              "</div>"
            ],
            "text/plain": [
              "   sepal_length  sepal_width  ...  origin_uas  origin_usa\n",
              "0           5.1          3.5  ...           0           1\n",
              "1           4.9          3.0  ...           0           1\n",
              "2           4.7          3.2  ...           0           1\n",
              "3           4.6          3.1  ...           0           0\n",
              "4           5.0          3.6  ...           0           0\n",
              "\n",
              "[5 rows x 16 columns]"
            ]
          },
          "metadata": {
            "tags": []
          },
          "execution_count": 5
        }
      ]
    },
    {
      "cell_type": "markdown",
      "metadata": {
        "id": "VmIGrpsiQM10"
      },
      "source": [
        "# Block 7"
      ]
    },
    {
      "cell_type": "code",
      "metadata": {
        "id": "-3Kxc7jQQOEs"
      },
      "source": [
        "# i will remove outliers above 2 stds\n",
        "def remove_outliers(df):\n",
        "\n",
        "  \"\"\"\n",
        "  this function will remove outliers. Takes in a series. Uses the IQR method and returns the series without outliers.\n",
        "  \"\"\"\n",
        "  meanval = np.mean(df)\n",
        "  stdval = np.std(df)\n",
        "  upper = meanval + stdval * 2\n",
        "  lower = meanval - stdval * 2\n",
        "  return np.where((df > lower) & (df < upper), df, np.nan)\n",
        "\n",
        "data_clean = data_dummy.copy()\n",
        "for column in data_dummy.columns:\n",
        "\n",
        "  if isinstance(data_dummy[column][0], float) == 1:\n",
        "\n",
        "    data_dummy[column] = remove_outliers(data_dummy[column])"
      ],
      "execution_count": 33,
      "outputs": []
    },
    {
      "cell_type": "markdown",
      "metadata": {
        "id": "oWjnXwS_QREf"
      },
      "source": [
        "# Block 8"
      ]
    },
    {
      "cell_type": "code",
      "metadata": {
        "id": "T3RN7-HKQSZZ"
      },
      "source": [
        "# i will replace the remaining NaNs with the median with respect to the species\n",
        "# for loop to iterate over species\n",
        "for column in data_dummy.columns:\n",
        "  colmed = data_dummy.median(axis = 1)\n",
        "  data_dummy[column].fillna(colmed, inplace = True)"
      ],
      "execution_count": 41,
      "outputs": []
    },
    {
      "cell_type": "markdown",
      "metadata": {
        "id": "zfOquP02QbUi"
      },
      "source": [
        "# Block 9: bonus 0.5 pts"
      ]
    },
    {
      "cell_type": "code",
      "metadata": {
        "id": "JTHr88pYQdbH"
      },
      "source": [
        "# bin the petal width column into low, medium, and high (not dummy coded)\n",
        "petal_bins = pd.cut(data_dummy['petal_width'], bins = [0, 0.9, 1.8, 2.7], labels = [1, 2, 3])\n",
        "data_final = data_dummy.copy()\n",
        "data_final['pedal_ordinal'] = petal_bins"
      ],
      "execution_count": 47,
      "outputs": []
    },
    {
      "cell_type": "markdown",
      "metadata": {
        "id": "mgQHihVtQhMV"
      },
      "source": [
        "# Block 10"
      ]
    },
    {
      "cell_type": "code",
      "metadata": {
        "id": "FEhC4dXHQife",
        "colab": {
          "base_uri": "https://localhost:8080/",
          "height": 603
        },
        "outputId": "7e9ca523-53f2-4061-e808-1ded7e168e9d"
      },
      "source": [
        "# show that there is no missing data\n",
        "print(data_final.isnull().any())\n",
        "# use describe to show the final dataset\n",
        "data_final.describe()"
      ],
      "execution_count": 49,
      "outputs": [
        {
          "output_type": "stream",
          "text": [
            "sepal_length             False\n",
            "sepal_width              False\n",
            "petal_length             False\n",
            "petal_width              False\n",
            "species_seotsa           False\n",
            "species_setosa           False\n",
            "species_versicolor       False\n",
            "species_versicolr        False\n",
            "species_virginia         False\n",
            "species_virginica        False\n",
            "species_west virginia    False\n",
            "origin_euarope           False\n",
            "origin_europe            False\n",
            "origin_japan             False\n",
            "origin_uas               False\n",
            "origin_usa               False\n",
            "pedal_ordinal             True\n",
            "dtype: bool\n"
          ],
          "name": "stdout"
        },
        {
          "output_type": "execute_result",
          "data": {
            "text/html": [
              "<div>\n",
              "<style scoped>\n",
              "    .dataframe tbody tr th:only-of-type {\n",
              "        vertical-align: middle;\n",
              "    }\n",
              "\n",
              "    .dataframe tbody tr th {\n",
              "        vertical-align: top;\n",
              "    }\n",
              "\n",
              "    .dataframe thead th {\n",
              "        text-align: right;\n",
              "    }\n",
              "</style>\n",
              "<table border=\"1\" class=\"dataframe\">\n",
              "  <thead>\n",
              "    <tr style=\"text-align: right;\">\n",
              "      <th></th>\n",
              "      <th>sepal_length</th>\n",
              "      <th>sepal_width</th>\n",
              "      <th>petal_length</th>\n",
              "      <th>petal_width</th>\n",
              "      <th>species_seotsa</th>\n",
              "      <th>species_setosa</th>\n",
              "      <th>species_versicolor</th>\n",
              "      <th>species_versicolr</th>\n",
              "      <th>species_virginia</th>\n",
              "      <th>species_virginica</th>\n",
              "      <th>species_west virginia</th>\n",
              "      <th>origin_euarope</th>\n",
              "      <th>origin_europe</th>\n",
              "      <th>origin_japan</th>\n",
              "      <th>origin_uas</th>\n",
              "      <th>origin_usa</th>\n",
              "    </tr>\n",
              "  </thead>\n",
              "  <tbody>\n",
              "    <tr>\n",
              "      <th>count</th>\n",
              "      <td>137.000000</td>\n",
              "      <td>137.000000</td>\n",
              "      <td>137.000000</td>\n",
              "      <td>137.000000</td>\n",
              "      <td>137.000000</td>\n",
              "      <td>137.000000</td>\n",
              "      <td>137.000000</td>\n",
              "      <td>137.000000</td>\n",
              "      <td>137.000000</td>\n",
              "      <td>137.000000</td>\n",
              "      <td>137.000000</td>\n",
              "      <td>137.000000</td>\n",
              "      <td>137.000000</td>\n",
              "      <td>137.000000</td>\n",
              "      <td>137.000000</td>\n",
              "      <td>137.000000</td>\n",
              "    </tr>\n",
              "    <tr>\n",
              "      <th>mean</th>\n",
              "      <td>5.383942</td>\n",
              "      <td>2.896350</td>\n",
              "      <td>3.488321</td>\n",
              "      <td>1.183942</td>\n",
              "      <td>0.014599</td>\n",
              "      <td>0.313869</td>\n",
              "      <td>0.306569</td>\n",
              "      <td>0.007299</td>\n",
              "      <td>0.007299</td>\n",
              "      <td>0.343066</td>\n",
              "      <td>0.007299</td>\n",
              "      <td>0.007299</td>\n",
              "      <td>0.328467</td>\n",
              "      <td>0.291971</td>\n",
              "      <td>0.014599</td>\n",
              "      <td>0.357664</td>\n",
              "    </tr>\n",
              "    <tr>\n",
              "      <th>std</th>\n",
              "      <td>1.850407</td>\n",
              "      <td>0.799946</td>\n",
              "      <td>1.983575</td>\n",
              "      <td>0.785178</td>\n",
              "      <td>0.120379</td>\n",
              "      <td>0.465767</td>\n",
              "      <td>0.462761</td>\n",
              "      <td>0.085436</td>\n",
              "      <td>0.085436</td>\n",
              "      <td>0.476475</td>\n",
              "      <td>0.085436</td>\n",
              "      <td>0.085436</td>\n",
              "      <td>0.471379</td>\n",
              "      <td>0.456337</td>\n",
              "      <td>0.120379</td>\n",
              "      <td>0.481072</td>\n",
              "    </tr>\n",
              "    <tr>\n",
              "      <th>min</th>\n",
              "      <td>0.000000</td>\n",
              "      <td>0.000000</td>\n",
              "      <td>0.000000</td>\n",
              "      <td>0.000000</td>\n",
              "      <td>0.000000</td>\n",
              "      <td>0.000000</td>\n",
              "      <td>0.000000</td>\n",
              "      <td>0.000000</td>\n",
              "      <td>0.000000</td>\n",
              "      <td>0.000000</td>\n",
              "      <td>0.000000</td>\n",
              "      <td>0.000000</td>\n",
              "      <td>0.000000</td>\n",
              "      <td>0.000000</td>\n",
              "      <td>0.000000</td>\n",
              "      <td>0.000000</td>\n",
              "    </tr>\n",
              "    <tr>\n",
              "      <th>25%</th>\n",
              "      <td>5.000000</td>\n",
              "      <td>2.700000</td>\n",
              "      <td>1.500000</td>\n",
              "      <td>0.300000</td>\n",
              "      <td>0.000000</td>\n",
              "      <td>0.000000</td>\n",
              "      <td>0.000000</td>\n",
              "      <td>0.000000</td>\n",
              "      <td>0.000000</td>\n",
              "      <td>0.000000</td>\n",
              "      <td>0.000000</td>\n",
              "      <td>0.000000</td>\n",
              "      <td>0.000000</td>\n",
              "      <td>0.000000</td>\n",
              "      <td>0.000000</td>\n",
              "      <td>0.000000</td>\n",
              "    </tr>\n",
              "    <tr>\n",
              "      <th>50%</th>\n",
              "      <td>5.700000</td>\n",
              "      <td>3.000000</td>\n",
              "      <td>4.200000</td>\n",
              "      <td>1.300000</td>\n",
              "      <td>0.000000</td>\n",
              "      <td>0.000000</td>\n",
              "      <td>0.000000</td>\n",
              "      <td>0.000000</td>\n",
              "      <td>0.000000</td>\n",
              "      <td>0.000000</td>\n",
              "      <td>0.000000</td>\n",
              "      <td>0.000000</td>\n",
              "      <td>0.000000</td>\n",
              "      <td>0.000000</td>\n",
              "      <td>0.000000</td>\n",
              "      <td>0.000000</td>\n",
              "    </tr>\n",
              "    <tr>\n",
              "      <th>75%</th>\n",
              "      <td>6.400000</td>\n",
              "      <td>3.300000</td>\n",
              "      <td>5.100000</td>\n",
              "      <td>1.800000</td>\n",
              "      <td>0.000000</td>\n",
              "      <td>1.000000</td>\n",
              "      <td>1.000000</td>\n",
              "      <td>0.000000</td>\n",
              "      <td>0.000000</td>\n",
              "      <td>1.000000</td>\n",
              "      <td>0.000000</td>\n",
              "      <td>0.000000</td>\n",
              "      <td>1.000000</td>\n",
              "      <td>1.000000</td>\n",
              "      <td>0.000000</td>\n",
              "      <td>1.000000</td>\n",
              "    </tr>\n",
              "    <tr>\n",
              "      <th>max</th>\n",
              "      <td>7.900000</td>\n",
              "      <td>4.400000</td>\n",
              "      <td>6.900000</td>\n",
              "      <td>2.500000</td>\n",
              "      <td>1.000000</td>\n",
              "      <td>1.000000</td>\n",
              "      <td>1.000000</td>\n",
              "      <td>1.000000</td>\n",
              "      <td>1.000000</td>\n",
              "      <td>1.000000</td>\n",
              "      <td>1.000000</td>\n",
              "      <td>1.000000</td>\n",
              "      <td>1.000000</td>\n",
              "      <td>1.000000</td>\n",
              "      <td>1.000000</td>\n",
              "      <td>1.000000</td>\n",
              "    </tr>\n",
              "  </tbody>\n",
              "</table>\n",
              "</div>"
            ],
            "text/plain": [
              "       sepal_length  sepal_width  ...  origin_uas  origin_usa\n",
              "count    137.000000   137.000000  ...  137.000000  137.000000\n",
              "mean       5.383942     2.896350  ...    0.014599    0.357664\n",
              "std        1.850407     0.799946  ...    0.120379    0.481072\n",
              "min        0.000000     0.000000  ...    0.000000    0.000000\n",
              "25%        5.000000     2.700000  ...    0.000000    0.000000\n",
              "50%        5.700000     3.000000  ...    0.000000    0.000000\n",
              "75%        6.400000     3.300000  ...    0.000000    1.000000\n",
              "max        7.900000     4.400000  ...    1.000000    1.000000\n",
              "\n",
              "[8 rows x 16 columns]"
            ]
          },
          "metadata": {
            "tags": []
          },
          "execution_count": 49
        }
      ]
    }
  ]
}