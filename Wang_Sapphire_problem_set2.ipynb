{
  "nbformat": 4,
  "nbformat_minor": 0,
  "metadata": {
    "colab": {
      "name": "Wang_Sapphire_problem_set2",
      "provenance": [],
      "toc_visible": true
    },
    "kernelspec": {
      "name": "python3",
      "display_name": "Python 3"
    },
    "language_info": {
      "name": "python"
    }
  },
  "cells": [
    {
      "cell_type": "markdown",
      "metadata": {
        "id": "zwiBuYRcBm8H"
      },
      "source": [
        "# Block 1"
      ]
    },
    {
      "cell_type": "code",
      "metadata": {
        "id": "VUsuLUUw0fFT"
      },
      "source": [
        "# importing libraries\n",
        "import numpy as np\n",
        "import pandas as pd\n",
        "import matplotlib.pyplot as plt\n",
        "import seaborn as sns"
      ],
      "execution_count": 211,
      "outputs": []
    },
    {
      "cell_type": "markdown",
      "metadata": {
        "id": "TgrsVWct0gvY"
      },
      "source": [
        "# Block 2"
      ]
    },
    {
      "cell_type": "code",
      "metadata": {
        "id": "_0pZfHYV0h-O",
        "colab": {
          "base_uri": "https://localhost:8080/",
          "height": 297
        },
        "outputId": "62ea2d62-40d4-433f-9cab-fde72fdeb2ee"
      },
      "source": [
        "# creating the figure\n",
        "data=sns.load_dataset('anscombe')\n",
        "fig1,axes1 = plt.subplots(2,2)\n",
        "data\n",
        "# slice into the dataset\n",
        "df1=data[data['dataset'] == 'I'] \n",
        "df2=data[data['dataset'] == 'II'] \n",
        "df3=data[data['dataset'] == 'III'] \n",
        "df4=data[data['dataset'] == 'IV'] \n",
        "\n",
        "# x values\n",
        "x1=df1['x']\n",
        "x2=df2['x']\n",
        "x3=df3['x']\n",
        "x4=df4['x']\n",
        "\n",
        "# y values\n",
        "y1=df1['y']\n",
        "y2=df2['y']\n",
        "y3=df3['y']\n",
        "y4=df4['y']\n",
        "\n",
        "# now plot\n",
        "axes1[0,0].plot(x1, y1,\n",
        "           linestyle='',\n",
        "           color='g',\n",
        "           marker='o',\n",
        "           label='Dataset 1')\n",
        "axes1[0,1].plot(x2, y2,\n",
        "           linestyle='',\n",
        "           color='b',\n",
        "           marker='o',\n",
        "           label='Dataset 2')\n",
        "axes1[1,0].plot(x3, y3,\n",
        "           linestyle='',\n",
        "           color='r',\n",
        "           marker='o',\n",
        "           label='Dataset 3')\n",
        "axes1[1,1].plot(x4, y4,\n",
        "           linestyle='',\n",
        "           color='m',\n",
        "           marker='o',\n",
        "           label='Dataset 4')\n",
        "# flattening for indexing into the subplots\n",
        "axes1 = axes1.flatten()\n",
        "# dataset 1: labeling axes + title\n",
        "axes1[0].set_xlabel('X1')\n",
        "axes1[0].set_ylabel('Y1')\n",
        "axes1[0].set_title('Dataset 1')\n",
        "# dataset 1: setting the same limits and ticks for all datasets\n",
        "axes1[0].set_xlim([2,20])\n",
        "axes1[0].set_ylim([2,14])\n",
        "axes1[0].set_xticks(np.arange(4,20,2))\n",
        "axes1[0].set_yticks(np.arange(4,14,2))\n",
        "# dataset 1: x and y means and standard deviations\n",
        "axes1[0].text(3,12.5, 'x mean: ' + str(round(x1.mean(),2)))\n",
        "axes1[0].text(3,11, 'x std: ' + str(round(x1.std(),2)))\n",
        "axes1[0].text(13,5.5, 'y mean: ' + str(round(y1.mean(),2)))\n",
        "axes1[0].text(13,4, 'y std: ' + str(round(y1.std(),2)))\n",
        "# dataset 1: plotting the linear regression line\n",
        "linearvalues=np.arange(2,23,1)\n",
        "line=[m*x1 + 2 for x1 in linearvalues]\n",
        "m,b = np.polyfit(x1, y1, 1)\n",
        "axes1[0].plot(line)\n",
        "# dataset 2: labeling axes + title\n",
        "axes1[1].set_xlabel('X2')\n",
        "axes1[1].set_ylabel('Y2')\n",
        "axes1[1].set_title('Dataset 2')\n",
        "# dataset 2: setting the same limits and ticks for all datasets\n",
        "axes1[1].set_xlim([2,20])\n",
        "axes1[1].set_ylim([2,14])\n",
        "axes1[1].set_xticks(np.arange(4,20,2))\n",
        "axes1[1].set_yticks(np.arange(4,14,2))\n",
        "# dataset 2: x and y means and standard deviations\n",
        "axes1[1].text(3,12.5, 'x mean: ' + str(round(x2.mean(),2)))\n",
        "axes1[1].text(3,11, 'x std: ' + str(round(x2.std(),2)))\n",
        "axes1[1].text(10,5.5, 'y mean: ' + str(round(y2.mean(),2)))\n",
        "axes1[1].text(10,4, 'y std: ' + str(round(y2.std(),2)))\n",
        "# dataset 2: plotting the linear regression line\n",
        "linearvalues=np.arange(2,23,1)\n",
        "line=[m*x2 + 2 for x2 in linearvalues]\n",
        "m,b = np.polyfit(x2, y2, 1)\n",
        "axes1[1].plot(line)\n",
        "# dataset 3: labeling axes + title\n",
        "axes1[2].set_xlabel('X3')\n",
        "axes1[2].set_ylabel('Y3')\n",
        "axes1[2].set_title('Dataset 3')\n",
        "# dataset 3: setting the same limits and ticks for all datasets\n",
        "axes1[2].set_xlim([2,20])\n",
        "axes1[2].set_ylim([2,14])\n",
        "axes1[2].set_xticks(np.arange(4,20,2))\n",
        "axes1[2].set_yticks(np.arange(4,14,2))\n",
        "# dataset 3: x and y means and standard deviations\n",
        "axes1[2].text(3,12.5, 'x mean: ' + str(round(x3.mean(),2)))\n",
        "axes1[2].text(3,11, 'x std: ' + str(round(x3.std(),2)))\n",
        "axes1[2].text(10,5.5, 'y mean: ' + str(round(y3.mean(),2)))\n",
        "axes1[2].text(10,4, 'y std: ' + str(round(y3.std(),2)))\n",
        "# dataset 3: plotting the linear regression line\n",
        "linearvalues=np.arange(2,23,1)\n",
        "line=[m*x3 + 2 for x3 in linearvalues]\n",
        "m,b = np.polyfit(x3, y3, 1)\n",
        "axes1[2].plot(line)\n",
        "# dataset 4: labeling axes + title\n",
        "axes1[3].set_xlabel('X4')\n",
        "axes1[3].set_ylabel('Y5')\n",
        "axes1[3].set_title('Dataset 4')\n",
        "# dataset 4: setting the same limits and ticks for all datasets\n",
        "axes1[3].set_xlim([2,20])\n",
        "axes1[3].set_ylim([2,14])\n",
        "axes1[3].set_xticks(np.arange(4,20,2))\n",
        "axes1[3].set_yticks(np.arange(4,14,2))\n",
        "# dataset 4: x and y means and standard deviations\n",
        "axes1[3].text(3,12.5, 'x mean: ' + str(round(x4.mean(),2)))\n",
        "axes1[3].text(3,11, 'x std: ' + str(round(x4.std(),2)))\n",
        "axes1[3].text(12,5.5, 'y mean: ' + str(round(y4.mean(),2)))\n",
        "axes1[3].text(12,4, 'y std: ' + str(round(y4.std(),2)))\n",
        "# dataset 4: plotting the linear regression line\n",
        "linearvalues=np.arange(2,23,1)\n",
        "m,b = np.polyfit(x4, y4, 1)\n",
        "line=[m*x4 + 2 for x4 in linearvalues]\n",
        "axes1[3].plot(line)\n",
        "# reformatting to spread the plots out evenly\n",
        "fig1.tight_layout()"
      ],
      "execution_count": 212,
      "outputs": [
        {
          "output_type": "display_data",
          "data": {
            "image/png": "[encoded data removed]",
            "text/plain": [
              "<Figure size 432x288 with 4 Axes>"
            ]
          },
          "metadata": {
            "tags": [],
            "needs_background": "light"
          }
        }
      ]
    },
    {
      "cell_type": "markdown",
      "metadata": {
        "id": "6yDI4UuV0jCl"
      },
      "source": [
        "# Block 3"
      ]
    },
    {
      "cell_type": "code",
      "metadata": {
        "id": "RGUyn5Sj0k8M"
      },
      "source": [
        "# saving the image\n",
        "fig1.savefig('fig1.pdf')"
      ],
      "execution_count": 213,
      "outputs": []
    },
    {
      "cell_type": "markdown",
      "metadata": {
        "id": "XYvnHcCR3mmj"
      },
      "source": [
        "# Block 4"
      ]
    },
    {
      "cell_type": "code",
      "metadata": {
        "id": "Birc0jSb3nke",
        "colab": {
          "base_uri": "https://localhost:8080/",
          "height": 282
        },
        "outputId": "be7bc0d0-0d1a-49ba-97e5-b97df1d9e22a"
      },
      "source": [
        "# bonus point: use a for loop or nested for loops that goes through the different datasets\n",
        "fig,axes=plt.subplots(2,2)\n",
        "axes = axes.flatten()\n",
        "# check the shape\n",
        "axes.shape\n",
        "\n",
        "count=1\n",
        "# write the for loop\n",
        "for i in axes:\n",
        "  if count==1:\n",
        "    i.plot(x1,y1,\n",
        "           '.',\n",
        "           color='g',\n",
        "           label='Dataset 1')\n",
        "    count+=1\n",
        "  elif count==2:\n",
        "    i.plot(x2,y2,\n",
        "           '.',\n",
        "           color='b',\n",
        "           label='Dataset 2')\n",
        "    count+=1\n",
        "  elif count==3:\n",
        "    i.plot(x3,y3,\n",
        "           '.',\n",
        "           color='r',\n",
        "           label='Dataset 3')\n",
        "    count+=1\n",
        "  elif count==4:\n",
        "    i.plot(x4,y4,\n",
        "           '.',\n",
        "           color='m',\n",
        "           label='Dataset 4')\n",
        "fig.tight_layout"
      ],
      "execution_count": 209,
      "outputs": [
        {
          "output_type": "execute_result",
          "data": {
            "text/plain": [
              "<bound method Figure.tight_layout of <Figure size 432x288 with 4 Axes>>"
            ]
          },
          "metadata": {
            "tags": []
          },
          "execution_count": 209
        },
        {
          "output_type": "display_data",
          "data": {
            "image/png": "[encoded data removed]",
            "text/plain": [
              "<Figure size 432x288 with 4 Axes>"
            ]
          },
          "metadata": {
            "tags": [],
            "needs_background": "light"
          }
        }
      ]
    }
  ]
}