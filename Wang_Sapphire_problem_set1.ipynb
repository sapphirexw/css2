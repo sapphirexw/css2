{
  "nbformat": 4,
  "nbformat_minor": 0,
  "metadata": {
    "colab": {
      "name": "Wang_Sapphire_problem_set1",
      "provenance": []
    },
    "kernelspec": {
      "name": "python3",
      "display_name": "Python 3"
    },
    "language_info": {
      "name": "python"
    }
  },
  "cells": [
    {
      "cell_type": "markdown",
      "metadata": {
        "id": "gm3a48MSb7os"
      },
      "source": [
        "# Block 1"
      ]
    },
    {
      "cell_type": "code",
      "metadata": {
        "colab": {
          "resources": {
            "http://localhost:8080/nbextensions/google.colab/files.js": {
              "data": "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",
              "ok": true,
              "headers": [
                [
                  "content-type",
                  "application/javascript"
                ]
              ],
              "status": 200,
              "status_text": ""
            }
          },
          "base_uri": "https://localhost:8080/",
          "height": 89
        },
        "id": "FzRhgSsy_Boc",
        "outputId": "449c576c-e6dd-4417-e9c3-2c082a87135f"
      },
      "source": [
        "# the libraries that we are importing\n",
        "import pandas as pd\n",
        "from google.colab import files\n",
        "files.upload()\n",
        "%ls"
      ],
      "execution_count": null,
      "outputs": [
        {
          "output_type": "display_data",
          "data": {
            "text/html": [
              "\n",
              "     <input type=\"file\" id=\"files-62280058-62d1-439e-846f-cb326c80985c\" name=\"files[]\" multiple disabled\n",
              "        style=\"border:none\" />\n",
              "     <output id=\"result-62280058-62d1-439e-846f-cb326c80985c\">\n",
              "      Upload widget is only available when the cell has been executed in the\n",
              "      current browser session. Please rerun this cell to enable.\n",
              "      </output>\n",
              "      <script src=\"/nbextensions/google.colab/files.js\"></script> "
            ],
            "text/plain": [
              "<IPython.core.display.HTML object>"
            ]
          },
          "metadata": {
            "tags": []
          }
        },
        {
          "output_type": "stream",
          "text": [
            "Saving problem_set_1_data.csv to problem_set_1_data (1).csv\n",
            "'problem_set_1_data (1).csv'   problem_set_1_data.csv   \u001b[0m\u001b[01;34msample_data\u001b[0m/\n"
          ],
          "name": "stdout"
        }
      ]
    },
    {
      "cell_type": "markdown",
      "metadata": {
        "id": "KSM_uxfD_deX"
      },
      "source": [
        "# Block 2"
      ]
    },
    {
      "cell_type": "code",
      "metadata": {
        "colab": {
          "base_uri": "https://localhost:8080/"
        },
        "id": "f9YZEY4t_7Xm",
        "outputId": "f9c71b50-a71d-45bd-f6a4-5d7c564fe5b9"
      },
      "source": [
        "# load the data using the following code...\n",
        "data = pd.read_csv('problem_set_1_data.csv')\n",
        "# rename the columns\n",
        "data = data.rename(columns={'quizzes':'quiz_total','attendedClass':'attended','finalgrade':'final_grade','final_EXAM':'final_exam','student':'name'})\n",
        "# print a 'head' and 'tail' of the dataframe \n",
        "print(data.head())\n",
        "print(data.tail())\n",
        "print(data.describe())"
      ],
      "execution_count": null,
      "outputs": [
        {
          "output_type": "stream",
          "text": [
            "   quiz_total  attended  final_grade  final_exam               name\n",
            "0       78.50         1        99.38          46       Linnie Lietz\n",
            "1       64.25         0        95.78          45      Mitch Mustain\n",
            "2       76.75         0        97.42          41     Salina Chavera\n",
            "3       69.00         1        92.50          38  Kimberely Conwell\n",
            "4       64.00         0        92.50          39          Zack Burk\n",
            "     quiz_total  attended  final_grade  final_exam                 name\n",
            "166        73.5         0        96.25          45           Dana Malta\n",
            "167        75.5         0        98.13          44         Sixta Heyden\n",
            "168        41.0         0        69.38          32       Brianne Broome\n",
            "169        77.0         0       101.25          47  Elouise Weatherholt\n",
            "170        72.0         0        92.81          38        Addie Maharaj\n",
            "       quiz_total    attended  final_grade  final_exam\n",
            "count  171.000000  171.000000   171.000000  171.000000\n",
            "mean    69.131579    0.192982    91.855380   39.672515\n",
            "std      9.488473    0.395798     9.487795    5.511304\n",
            "min      0.000000    0.000000     2.500000    0.000000\n",
            "25%     65.500000    0.000000    89.380000   37.000000\n",
            "50%     72.000000    0.000000    93.130000   40.000000\n",
            "75%     75.500000    0.000000    96.360000   44.000000\n",
            "max     79.500000    1.000000   104.380000   49.000000\n"
          ],
          "name": "stdout"
        }
      ]
    },
    {
      "cell_type": "markdown",
      "metadata": {
        "id": "-76znC7a7Rbk"
      },
      "source": [
        "## In a text block, describe what the averages mean from the dataframe\n",
        "The mean row in the dataframe means that  students averaged around 69 percent on their quiz scores and that most students did not attend class. In addition, students averaged a little over 39 percent on their final exams and their final grades in the class averaged around 91 percent."
      ]
    },
    {
      "cell_type": "markdown",
      "metadata": {
        "id": "80V5yba_ttHO"
      },
      "source": [
        "# Block 3"
      ]
    },
    {
      "cell_type": "code",
      "metadata": {
        "colab": {
          "base_uri": "https://localhost:8080/"
        },
        "id": "kVJnBGoHtvQg",
        "outputId": "1df1e5ab-6ddf-4ae1-869a-669e0cd64164"
      },
      "source": [
        "# subset the data by whether someone attended class\n",
        "attended = data[data.attended == 1]\n",
        "# i will view the data\n",
        "attended\n",
        "absent = data[data.attended == 0]\n",
        "# i will view the data\n",
        "absent\n",
        "# what is the average 'quiz_total', 'final_grade', and 'final_exam' for those who attended class versus those who did not attend?\n",
        "# averages for students who attended\n",
        "avg1_quiztotal = attended['quiz_total'].mean()\n",
        "print('the average quiz grade for students who attended class is: ', avg1_quiztotal)\n",
        "avg1_finalgrade = attended['final_grade'].mean()\n",
        "print('the average final grade for students who attended class is: ', avg1_finalgrade)\n",
        "avg1_finalexam = attended['final_exam'].mean()\n",
        "print('the average quiz grade for students who attended class is: ', avg1_finalexam)\n",
        "# averages for students who were absent\n",
        "avg0_quiztotal = absent['quiz_total'].mean()\n",
        "print('the average quiz grade for students who did NOT class is: ', avg0_quiztotal)\n",
        "avg0_finalgrade = absent['final_grade'].mean()\n",
        "print('the average final grade for students who did NOT attend class is: ', avg0_finalgrade)\n",
        "avg0_finalexam = absent['final_exam'].mean()\n",
        "print('the average quiz grade for students who did NOT attend class is: ', avg0_finalexam)"
      ],
      "execution_count": null,
      "outputs": [
        {
          "output_type": "stream",
          "text": [
            "the average quiz grade for students who attended class is:  72.5\n",
            "the average final grade for students who attended class is:  95.07212121212123\n",
            "the average quiz grade for students who attended class is:  40.63636363636363\n",
            "the average quiz grade for students who did NOT class is:  68.32608695652173\n",
            "the average final grade for students who did NOT attend class is:  91.08615942028983\n",
            "the average quiz grade for students who did NOT attend class is:  39.44202898550725\n"
          ],
          "name": "stdout"
        }
      ]
    },
    {
      "cell_type": "markdown",
      "metadata": {
        "id": "wd3kVELmDCQz"
      },
      "source": [
        "## Describe what you find from these results in a text box below\n",
        "The data shows that students who attend class, on average, score higher than those who do not attend; this includes quiz grades, final exam grades, and final overall grades.\n"
      ]
    },
    {
      "cell_type": "markdown",
      "metadata": {
        "id": "5nnfDqQuCN4b"
      },
      "source": [
        "# Bonus Point"
      ]
    },
    {
      "cell_type": "code",
      "metadata": {
        "id": "Ip2gMtW9a29-"
      },
      "source": [
        "import numpy as np"
      ],
      "execution_count": null,
      "outputs": []
    },
    {
      "cell_type": "code",
      "metadata": {
        "colab": {
          "base_uri": "https://localhost:8080/"
        },
        "id": "Rw07TLN7CRCj",
        "outputId": "11b35d15-a7f3-49d1-8db6-18e490883ab7"
      },
      "source": [
        "# finding if anyone was working together\n",
        "# quiz data\n",
        "togetherquiz = data[data.duplicated('quiz_total',keep=False)]\n",
        "print(togetherquiz)\n",
        "# final data\n",
        "togetherfinal = data[data.duplicated('final_grade',keep=False)]\n",
        "print(togetherfinal)\n",
        "# final exam data\n",
        "togetherexam = data[data.duplicated('final_exam',keep=False)]\n",
        "print(togetherexam)\n",
        "\n",
        "together = []\n",
        "\n",
        "for i in togetherquiz.name:\n",
        "  for j in togetherfinal.name:\n",
        "    for x in togetherexam.name:\n",
        "      if i==j and i==x:\n",
        "        together.append(i)\n",
        "together = [i.replace('\\xa0',' ') for i in together]\n",
        "print('the students who worked together are: ', together)"
      ],
      "execution_count": null,
      "outputs": [
        {
          "output_type": "stream",
          "text": [
            "     quiz_total  attended  final_grade  final_exam                 name\n",
            "0         78.50         1        99.38          46         Linnie Lietz\n",
            "2         76.75         0        97.42          41       Salina Chavera\n",
            "3         69.00         1        92.50          38    Kimberely Conwell\n",
            "4         64.00         0        92.50          39            Zack Burk\n",
            "5         63.00         1        89.38          36         Almeda Rizer\n",
            "..          ...       ...          ...         ...                  ...\n",
            "165       72.00         0        90.94          35      Lakisha Colucci\n",
            "166       73.50         0        96.25          45           Dana Malta\n",
            "167       75.50         0        98.13          44         Sixta Heyden\n",
            "169       77.00         0       101.25          47  Elouise Weatherholt\n",
            "170       72.00         0        92.81          38        Addie Maharaj\n",
            "\n",
            "[145 rows x 5 columns]\n",
            "     quiz_total  attended  final_grade  final_exam                 name\n",
            "0          78.5         1        99.38          46         Linnie Lietz\n",
            "3          69.0         1        92.50          38    Kimberely Conwell\n",
            "4          64.0         0        92.50          39            Zack Burk\n",
            "5          63.0         1        89.38          36         Almeda Rizer\n",
            "6          73.5         0        95.94          43        Damien Ellett\n",
            "..          ...       ...          ...         ...                  ...\n",
            "165        72.0         0        90.94          35      Lakisha Colucci\n",
            "166        73.5         0        96.25          45           Dana Malta\n",
            "167        75.5         0        98.13          44         Sixta Heyden\n",
            "169        77.0         0       101.25          47  Elouise Weatherholt\n",
            "170        72.0         0        92.81          38        Addie Maharaj\n",
            "\n",
            "[101 rows x 5 columns]\n",
            "     quiz_total  attended  final_grade  final_exam                 name\n",
            "0         78.50         1        99.38          46         Linnie Lietz\n",
            "1         64.25         0        95.78          45        Mitch Mustain\n",
            "2         76.75         0        97.42          41       Salina Chavera\n",
            "3         69.00         1        92.50          38    Kimberely Conwell\n",
            "4         64.00         0        92.50          39            Zack Burk\n",
            "..          ...       ...          ...         ...                  ...\n",
            "166       73.50         0        96.25          45           Dana Malta\n",
            "167       75.50         0        98.13          44         Sixta Heyden\n",
            "168       41.00         0        69.38          32       Brianne Broome\n",
            "169       77.00         0       101.25          47  Elouise Weatherholt\n",
            "170       72.00         0        92.81          38        Addie Maharaj\n",
            "\n",
            "[165 rows x 5 columns]\n",
            "the students who worked together are:  ['Linnie Lietz', 'Kimberely Conwell', 'Zack Burk', 'Almeda Rizer', 'Damien Ellett', 'Lora Sobieski', 'Kieth Treanor', 'Albertha Ouk', 'Augustine Clair', 'Krystyna Barrentine', 'Fidela Leonetti', 'Annalee Deaton', 'Codi Whitcher', 'Gretta Kunzman', 'Jaimee Carl', 'Nan Castro', 'Gidget Ingerson', 'Georgette Ortega', 'Fern Iadarola', 'Izetta Maloy', 'Delilah Starr', 'Marlin Abrahamson', 'Maisie Monti', 'Bettyann Watford', 'Owen Meagher', 'Moshe Dulmage', 'Carolyne Soltis', 'Jana Satterlee', 'Branden Vanfossen', 'Shanda Doi', 'Winfred Haug', 'Towanda Mutchler', 'Ollie Freeney', 'Dulcie Furtado', 'Laine Dowling', 'Liberty Elzey', 'Lenard Soares', 'Earnestine Reese', 'Ward Piccolo', 'Neil Acosta', 'Jasper Claudio', 'Latia Slagle', 'Clayton Carvalho', 'Concetta Yanez', 'Dori Geier', 'Min Peake', 'Delicia Tay', 'Tamica Wann', 'Danette Prisco', 'Juana Kerby', 'Cassandra Bacchus', 'Babette Kaina', 'Rey Paterson', 'Kimbery Almaguer', 'Ingeborg Ruyle', 'Lakia Kaestner', 'Hanna Morell', 'Marguerite Edelen', 'Jeneva Shores', 'Jerrica Heal', 'Olene Polanco', 'Mario Heckstall', 'Clark Gribble', 'Gisele Rierson', 'Kathryn Dickens', 'Elfriede Gothard', 'Kasie Grasser', 'Annabelle Brierly', 'Palma Tewell', 'Denae Mcculley', 'Venus Shank', 'Adalberto Berube', 'Genevieve Woodfin', 'Sade Byham', 'Rana Tatro', 'Claudette Ownby', 'Arlette Hornbaker', 'Vincent Staub', 'Don Connell', 'Pansy Waite', 'Evelyne Tittle', 'Jaraham Eidda', 'Laurie Braziel', 'Shavonda Oesterling', 'Cristi Chae', 'Brock Crocket', 'Clorinda Lundblad', 'Eneida Chesser', 'Latarsha Madore', 'Margarite Kaczmarek', 'Carlyn Matson', 'Phillip Barnett', 'Les Shehorn', 'Demarcus Kenney', 'Lakisha Colucci', 'Dana Malta', 'Sixta Heyden', 'Elouise Weatherholt', 'Addie Maharaj']\n"
          ],
          "name": "stdout"
        }
      ]
    }
  ]
}